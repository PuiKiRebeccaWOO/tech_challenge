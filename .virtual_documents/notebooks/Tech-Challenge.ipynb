





import numpy as np 
import pandas as pd
import matplotlib.pyplot as plt
import seaborn as sns
import plotly.graph_objects as go





df= pd.read_csv("../data/raw/asset_price_data.csv")
df.head()


df["date"] = pd.to_datetime(df["date"])


full_dates = pd.DataFrame({'date': pd.date_range(start='2019-01-02', end='2021-12-31', freq='D')})
df = pd.merge(full_dates, df, on='date', how='left')
df.fillna(method='ffill', inplace=True)


df.head(10)


# Normalize all asset prices to start at the same value 100
normalized_df = df.copy()
assets = ["Asset1", "Asset2", "Asset3", "Asset4", "Asset5"]
for asset in assets:
    normalized_df[asset] = normalized_df[asset] / normalized_df[asset].iloc[0] * 100


plt.figure(figsize=(12, 6))
for asset in assets:
    plt.plot(normalized_df["date"], normalized_df[asset], label=asset)

plt.title("Normalized Asset Prices Over Time")
plt.xlabel("Date")
plt.ylabel("Normalized Price (Base = 100)")
plt.legend()
plt.grid(True)
plt.tight_layout()
plt.xticks(rotation=45)
plt.show()








returns_df = df.copy()
for asset in assets:
    returns_df[asset] = df[asset].pct_change() * 100  # percentage change


returns_df = returns_df.dropna()


returns_df





correlation_matrix = returns_df[assets].corr()


correlation_matrix


# Create a heatmap
plt.figure(figsize=(8, 6))
sns.heatmap(correlation_matrix, annot=True, cmap="coolwarm", vmin=-1, vmax=1, linewidths=0.5)
plt.title("Asset Correlation Heatmap")
plt.tight_layout()
plt.show()








plt.figure(figsize=(8, 6))
plt.scatter(returns_df["Asset2"], returns_df["Asset3"], alpha=0.7)
plt.title("Scatter Plot of Daily Returns: Asset2 vs Asset3")
plt.xlabel("Asset2 Daily Returns (%)")
plt.ylabel("Asset3 Daily Returns (%)")
plt.grid(True)
plt.tight_layout()
plt.show()


sns.pairplot(returns_df, height=1.5, aspect=1.0)
plt.suptitle("Pair Plot of Daily Asset Returns", y=1.02)
plt.show()





df_weights= pd.read_csv("../data/raw/portfolio_weights.csv")
df_weights["date"] = pd.to_datetime(df_weights["date"])
df_weights


df_weights = pd.merge(full_dates, df_weights, on='date', how='left')
df_weights.fillna(method='ffill', inplace=True)


df_weights





plt.figure(figsize=(10, 6))
plt.stackplot(df_weights["date"], 
              df_weights["Asset1"], df_weights["Asset2"], df_weights["Asset3"],
              df_weights["Asset4"], df_weights["Asset5"],
              labels=["Asset1", "Asset2", "Asset3", "Asset4", "Asset5"])

plt.title("Asset Weights Over Time (Area Chart)")
plt.xlabel("Date")
plt.ylabel("Weight")
plt.legend(loc="upper left")
plt.tight_layout()
plt.grid(True)
plt.show()





df["date"] = pd.to_datetime(df["date"])
df_weights["date"] = pd.to_datetime(df_weights["date"])
df.set_index("date", inplace=True)
df_weights.set_index("date", inplace=True)

# Calculate daily returns of each asset
daily_returns = df.pct_change(fill_method=None)

# Multiply returns by weights
# This gives the portfolio return for each day
portfolio_daily_returns = (daily_returns * df_weights).sum(axis=1)

# Calculate cumulative return
portfolio_cumulative_returns = (1 + portfolio_daily_returns).cumprod()
portfolio_cumulative_returns


plt.figure(figsize=(10, 6))
plt.plot(portfolio_cumulative_returns.index, portfolio_cumulative_returns)
plt.title("Historical Cumulative Returns of the Portfolio")
plt.xlabel("Date")
plt.ylabel("Cumulative Return")
plt.grid(True)
plt.tight_layout()
plt.show()





portfolio_daily_returns.plot(figsize=(10,6), title='Daily Returns of Assets')
plt.xlabel('Date')
plt.ylabel('Daily Returns')
plt.grid(True)
plt.show()





# Calculate the total period in years 2019-2021 (365 + 366 + 365/3)
total_days = (portfolio_cumulative_returns.index[-1] - portfolio_cumulative_returns.index[0]).days
total_years = total_days / 365.25

# Portfolio Initial and Final Values
initial_portfolio_value = portfolio_cumulative_returns.iloc[0]
final_portfolio_value = portfolio_cumulative_returns.iloc[-1]

# Annualized Return for the Total Portfolio
portfolio_annualized_return = (final_portfolio_value / initial_portfolio_value)**(1 / total_years) - 1

# Annualized Return per asset
initial_asset_values = df.iloc[0]
final_asset_values = df.iloc[-1]
annualized_returns_assets = (final_asset_values / initial_asset_values)**(1 / total_years) - 1

# Compile into a clear DataFrame
results = pd.DataFrame({
    'Initial Value': initial_asset_values.round(2),
    'Final Value': final_asset_values.round(2),
    'Annualized Return (%)': (annualized_returns_assets * 100).round(2)
})

# Append the portfolio totals clearly
results.loc['Total Portfolio'] = [
    round(initial_portfolio_value, 2), 
    round(final_portfolio_value, 2), 
    round(portfolio_annualized_return * 100, 2)
]


results





# Annualized volatility (using 261 trading days)
trading_days_per_year = 261

# Daily volatility (standard deviation) of assets and portfolio
daily_volatility_assets = daily_returns.std()
daily_volatility_portfolio = portfolio_daily_returns.std()

# Annualize volatility
annualized_vol_assets = daily_volatility_assets * (trading_days_per_year ** 0.5) * 100
annualized_vol_portfolio = daily_volatility_portfolio * (trading_days_per_year ** 0.5) * 100

# Combine neatly into a DataFrame matching your earlier table format
volatility_table = pd.DataFrame({
    'Initial Value': df.iloc[0].round(2),
    'Final Value': df.iloc[-1].round(2),
    'Annualized Volatility (%)': annualized_vol_assets.round(2)
})


volatility_table.loc['Total Portfolio'] = [
    round(portfolio_cumulative_returns.iloc[0], 2),
    round(portfolio_cumulative_returns.iloc[-1], 2),
    round(annualized_vol_portfolio, 2)
]

volatility_table





trailing_periods = {
    '1 Month': 21,
    '3 Months': 63,
    '6 Months': 126,
    '1 Year': 261
}

total_returns = {}
annualized_returns = {}
annualized_volatility = {}

# Loop through each trailing period clearly
for period_name, period_days in trailing_periods.items():
    end_date = portfolio_daily_returns.index.max()
    start_date = end_date - pd.Timedelta(days=period_days)

    # Trailing returns data
    trailing_returns = portfolio_daily_returns.loc[start_date:end_date]

    # Calculate metrics
    total_ret = (1 + trailing_returns).prod() - 1
    annual_ret = (1 + total_ret)**(261 / period_days) - 1
    annual_vol = trailing_returns.std() * np.sqrt(261)

    # Store results
    total_returns[period_name] = total_ret * 100
    annualized_returns[period_name] = annual_ret * 100
    annualized_volatility[period_name] = annual_vol * 100

portfolio_summary = pd.DataFrame({
    'Total Return (%)': total_returns,
    'Annualized Return (%)': annualized_returns,
    'Annualized Volatility (%)': annualized_volatility
}).T.round(2)


print("Portfolio Trailing Performance Summary:")
portfolio_summary





# Get the latest available date weights from df_weights
latest_date = df_weights.index.max()
latest_weights = df_weights.loc[latest_date]

# Prepare the allocation table clearly
allocation_table = pd.DataFrame({
    'Portfolio Allocation (%)': (latest_weights * 100).round(2)
})


print("Portfolio Allocation Table (as of {})".format(latest_date.date()))
allocation_table


plt.figure(figsize=(8, 6))
plt.pie(
    allocation_table['Portfolio Allocation (%)'],
    labels=allocation_table.index,
    autopct='%1.1f%%',
    startangle=140
)
plt.title(f'Portfolio Allocation by Asset (as of {latest_date.date()})')
plt.axis('equal')  # Ensure pie chart is circular
plt.show()





# Calculate cumulative returns for each asset (growth of $1,000 invested initially)
initial_investment = 1000
cumulative_returns_assets_1000 = (1 + daily_returns).cumprod() * initial_investment

# Calculate cumulative return for the total portfolio (initial $1,000)
cumulative_returns_assets_1000['Total Portfolio'] = portfolio_cumulative_returns * initial_investment

# Plot the portfolio growth by asset over time clearly
plt.figure(figsize=(12, 7))

for column in cumulative_returns_assets_1000.columns:
    plt.plot(cumulative_returns_assets_1000.index, cumulative_returns_assets_1000[column], label=column)

plt.title('Portfolio Growth by Asset Over Time (Initial Investment: $1,000)', fontsize=14)
plt.xlabel('Date', fontsize=14)
plt.ylabel('Portfolio Value ($)', fontsize=14)
plt.grid(True, linestyle='--', alpha=0.6)
plt.legend()
plt.tight_layout()
plt.show()





asset_info= pd.read_csv("../data/raw/asset_information_data.csv")
asset_info


category_map = dict(zip(asset_info["Name"], asset_info["Family"].str.lower().str.replace(" ", "_")))
category_map


df_weights_renamed = df_weights.rename(columns=category_map)
df_grouped = df_weights_renamed.groupby(axis=1, level=0).sum()

plt.figure(figsize=(10, 6))
plt.stackplot(df_grouped.index, [df_grouped[col] for col in df_grouped.columns],
              labels=df_grouped.columns)

plt.title("Portfolio Asset Weights Grouped by Category (Area Chart)")
plt.xlabel("Date")
plt.ylabel("Total Weight")
plt.legend(loc="upper left", title="Asset Category")
plt.tight_layout()
plt.grid(True)
plt.show()



