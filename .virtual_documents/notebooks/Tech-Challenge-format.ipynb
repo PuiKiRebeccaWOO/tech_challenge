





import numpy as np 
import pandas as pd
import matplotlib.pyplot as plt
import seaborn as sns





df= pd.read_csv("../data/raw/asset_price_data.csv")
df


df["date"] = pd.to_datetime(df["date"])


# Normalize all asset prices to start at the same value 100
normalized_df = df.copy()
assets = ["Asset1", "Asset2", "Asset3", "Asset4", "Asset5"]
for asset in assets:
    normalized_df[asset] = normalized_df[asset] / normalized_df[asset].iloc[0] * 100


# Plotting
plt.figure(figsize=(12, 6))
for asset in assets:
    plt.plot(normalized_df["date"], normalized_df[asset], label=asset)

plt.title("Normalized Asset Prices Over Time")
plt.xlabel("Date")
plt.ylabel("Normalized Price (Base = 100)")
plt.legend()
plt.grid(True)
plt.tight_layout()
plt.xticks(rotation=45)
plt.show()








returns_df = df.copy()
for asset in assets:
    returns_df[asset] = df[asset].pct_change() * 100  # percentage change


returns_df = returns_df.dropna()





correlation_matrix = returns_df[assets].corr()


correlation_matrix





plt.figure(figsize=(8, 6))
plt.scatter(returns_df["Asset2"], returns_df["Asset3"], alpha=0.7)
plt.title("Scatter Plot of Daily Returns: Asset2 vs Asset3")
plt.xlabel("Asset2 Daily Returns (%)")
plt.ylabel("Asset3 Daily Returns (%)")
plt.grid(True)
plt.tight_layout()
plt.show()


# Create a heatmap
plt.figure(figsize=(8, 6))
sns.heatmap(correlation_matrix, annot=True, cmap="coolwarm", vmin=-1, vmax=1, linewidths=0.5)
plt.title("Asset Correlation Heatmap")
plt.tight_layout()
plt.show()


sns.pairplot(returns_df)
plt.suptitle("Pair Plot of Daily Asset Returns", y=1.02)
plt.show()





df_weights= pd.read_csv("../data/raw/portfolio_weights.csv")
df_weights["date"] = pd.to_datetime(df_weights["date"])
df_weights





plt.figure(figsize=(10, 6))
plt.stackplot(df_weights["date"], 
              df_weights["Asset1"], df_weights["Asset2"], df_weights["Asset3"],
              df_weights["Asset4"], df_weights["Asset5"],
              labels=["Asset1", "Asset2", "Asset3", "Asset4", "Asset5"])

plt.title("Asset Weights Over Time (Area Chart)")
plt.xlabel("Date")
plt.ylabel("Weight")
plt.legend(loc="upper left")
plt.tight_layout()
plt.grid(True)
plt.show()





df["date"] = pd.to_datetime(df["date"])
df_weights["date"] = pd.to_datetime(df_weights["date"])
df.set_index("date", inplace=True)
df_weights.set_index("date", inplace=True)

# Calculate daily returns of each asset
daily_returns = df.pct_change(fill_method=None)

# Multiply returns by weights
# This gives the portfolio return for each day
portfolio_daily_returns = (daily_returns * df_weights).sum(axis=1)

# Calculate cumulative return
portfolio_cumulative_returns = (1 + portfolio_daily_returns).cumprod()
portfolio_cumulative_returns


plt.figure(figsize=(10, 6))
plt.plot(portfolio_cumulative_returns.index, portfolio_cumulative_returns)
plt.title("Historical Cumulative Returns of the Portfolio")
plt.xlabel("Date")
plt.ylabel("Cumulative Return")
plt.grid(True)
plt.tight_layout()
plt.show()





df


# Ensure 'date' is a datetime and is set as index only if it's still a column
if "date" in df.columns:
    df["date"] = pd.to_datetime(df["date"])
    df.set_index("date", inplace=True)

if "date" in df_weights.columns:
    df_weights["date"] = pd.to_datetime(df_weights["date"])
    df_weights.set_index("date", inplace=True)

# Calculate daily returns
daily_returns = df.pct_change(fill_method=None)

# Calculate portfolio daily returns using weights
portfolio_returns = (daily_returns * df_weights).sum(axis=1)

# Calculate cumulative returns
cumulative_returns = (1 + portfolio_returns).cumprod()

# Calculate annualized return
n_days = cumulative_returns.shape[0]
annualized_return = cumulative_returns.iloc[-1] ** (261 / n_days) - 1
annualized_return





daily_volatility = portfolio_returns.std()
annualized_volatility = daily_volatility * (261 ** 0.5)
annualized_volatility





asset_info= pd.read_csv("../data/raw/asset_information_data.csv")
asset_info


category_map = dict(zip(asset_info["Name"], asset_info["Family"].str.lower().str.replace(" ", "_")))
category_map


df_weights_renamed = df_weights.rename(columns=category_map)
df_grouped = df_weights_renamed.groupby(axis=1, level=0).sum()

plt.figure(figsize=(10, 6))
plt.stackplot(df_grouped.index, [df_grouped[col] for col in df_grouped.columns],
              labels=df_grouped.columns)

plt.title("Portfolio Asset Weights Grouped by Category (Area Chart)")
plt.xlabel("Date")
plt.ylabel("Total Weight")
plt.legend(loc="upper left", title="Asset Category")
plt.tight_layout()
plt.grid(True)
plt.show()



